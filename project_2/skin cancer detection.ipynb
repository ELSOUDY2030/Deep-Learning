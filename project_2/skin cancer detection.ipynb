{
 "cells": [
  {
   "cell_type": "code",
   "execution_count": 1,
   "id": "0565287a",
   "metadata": {
    "ExecuteTime": {
     "end_time": "2022-10-17T19:09:49.656028Z",
     "start_time": "2022-10-17T19:09:35.885279Z"
    }
   },
   "outputs": [],
   "source": [
    "import numpy as np \n",
    "import matplotlib as plt\n",
    "import tensorflow as tf \n",
    "from tensorflow.keras import layers ,models ,Sequential\n",
    "from tensorflow.keras.models import Model\n",
    "from tensorflow.keras.preprocessing.image import ImageDataGenerator ,load_img ,img_to_array\n",
    "from tensorflow.keras.applications.resnet50 import preprocess_input , decode_predictions,ResNet50\n",
    "from tensorflow.keras.layers import Conv2D,Flatten,Dense,MaxPool2D,BatchNormalization,GlobalAveragePooling2D"
   ]
  },
  {
   "cell_type": "code",
   "execution_count": 12,
   "id": "a21d8777",
   "metadata": {
    "ExecuteTime": {
     "end_time": "2022-10-17T19:43:45.911438Z",
     "start_time": "2022-10-17T19:43:45.907438Z"
    }
   },
   "outputs": [],
   "source": [
    "img_width = 64\n",
    "batch_size= 32\n",
    "train_data = r'C:\\Users\\ELSOUDY\\python\\my_python\\my projects\\deep learning\\project_2\\Train'\n",
    "test_data = r'C:\\Users\\ELSOUDY\\python\\my_python\\my projects\\deep learning\\project_2\\Test'"
   ]
  },
  {
   "cell_type": "code",
   "execution_count": 13,
   "id": "540ad793",
   "metadata": {
    "ExecuteTime": {
     "end_time": "2022-10-17T19:44:05.265123Z",
     "start_time": "2022-10-17T19:44:05.169123Z"
    }
   },
   "outputs": [
    {
     "name": "stdout",
     "output_type": "stream",
     "text": [
      "Found 2239 images belonging to 9 classes.\n",
      "Found 118 images belonging to 9 classes.\n"
     ]
    }
   ],
   "source": [
    "train_data_1 = ImageDataGenerator(preprocessing_function=preprocess_input,\n",
    "                                  shear_range=0.2,\n",
    "                                  zoom_range=0.2,\n",
    "                                  horizontal_flip=True,\n",
    "                                  validation_split=0.4)\n",
    "train_img = train_data_1.flow_from_directory(train_data,\n",
    "                                               target_size=(img_width,img_width),\n",
    "                                               batch_size=batch_size,\n",
    "                                               class_mode=\"categorical\")\n",
    "test_img = train_data_1.flow_from_directory(test_data,\n",
    "                                               target_size=(img_width,img_width),\n",
    "                                               batch_size=batch_size,\n",
    "                                               class_mode=\"categorical\")"
   ]
  },
  {
   "cell_type": "code",
   "execution_count": 14,
   "id": "468d7433",
   "metadata": {
    "ExecuteTime": {
     "end_time": "2022-10-17T19:44:11.636552Z",
     "start_time": "2022-10-17T19:44:08.536802Z"
    }
   },
   "outputs": [
    {
     "data": {
      "text/plain": [
       "(32, 64, 64, 3)"
      ]
     },
     "execution_count": 14,
     "metadata": {},
     "output_type": "execute_result"
    }
   ],
   "source": [
    "x,y = test_img.next()\n",
    "x.shape"
   ]
  },
  {
   "cell_type": "code",
   "execution_count": 15,
   "id": "925a2b9c",
   "metadata": {
    "ExecuteTime": {
     "end_time": "2022-10-17T19:53:15.207250Z",
     "start_time": "2022-10-17T19:44:33.720799Z"
    }
   },
   "outputs": [
    {
     "name": "stdout",
     "output_type": "stream",
     "text": [
      "Epoch 1/20\n",
      "70/70 [==============================] - 26s 365ms/step - loss: 6.5962 - accuracy: 0.2921\n",
      "Epoch 2/20\n",
      "70/70 [==============================] - 26s 369ms/step - loss: 1.6174 - accuracy: 0.4390\n",
      "Epoch 3/20\n",
      "70/70 [==============================] - 26s 365ms/step - loss: 1.4811 - accuracy: 0.4779\n",
      "Epoch 4/20\n",
      "70/70 [==============================] - 26s 366ms/step - loss: 1.4011 - accuracy: 0.5038\n",
      "Epoch 5/20\n",
      "70/70 [==============================] - 26s 367ms/step - loss: 1.3895 - accuracy: 0.5217\n",
      "Epoch 6/20\n",
      "70/70 [==============================] - 26s 367ms/step - loss: 1.3151 - accuracy: 0.5319\n",
      "Epoch 7/20\n",
      "70/70 [==============================] - 26s 366ms/step - loss: 1.2817 - accuracy: 0.5565\n",
      "Epoch 8/20\n",
      "70/70 [==============================] - 26s 366ms/step - loss: 1.2460 - accuracy: 0.5663\n",
      "Epoch 9/20\n",
      "70/70 [==============================] - 25s 364ms/step - loss: 1.2014 - accuracy: 0.5753\n",
      "Epoch 10/20\n",
      "70/70 [==============================] - 26s 365ms/step - loss: 1.2047 - accuracy: 0.5721\n",
      "Epoch 11/20\n",
      "70/70 [==============================] - 26s 370ms/step - loss: 1.1345 - accuracy: 0.5994\n",
      "Epoch 12/20\n",
      "70/70 [==============================] - 26s 366ms/step - loss: 1.1223 - accuracy: 0.6070\n",
      "Epoch 13/20\n",
      "70/70 [==============================] - 26s 365ms/step - loss: 1.1142 - accuracy: 0.5985\n",
      "Epoch 14/20\n",
      "70/70 [==============================] - 26s 369ms/step - loss: 1.1059 - accuracy: 0.6016\n",
      "Epoch 15/20\n",
      "70/70 [==============================] - 26s 366ms/step - loss: 1.0461 - accuracy: 0.6190\n",
      "Epoch 16/20\n",
      "70/70 [==============================] - 25s 363ms/step - loss: 1.0447 - accuracy: 0.6257\n",
      "Epoch 17/20\n",
      "70/70 [==============================] - 26s 365ms/step - loss: 1.0139 - accuracy: 0.6409\n",
      "Epoch 18/20\n",
      "70/70 [==============================] - 25s 364ms/step - loss: 1.0182 - accuracy: 0.6391\n",
      "Epoch 19/20\n",
      "70/70 [==============================] - 26s 366ms/step - loss: 0.9287 - accuracy: 0.6646\n",
      "Epoch 20/20\n",
      "70/70 [==============================] - 26s 365ms/step - loss: 0.9582 - accuracy: 0.6583\n"
     ]
    },
    {
     "data": {
      "text/plain": [
       "<tensorflow.python.keras.callbacks.History at 0x23a1c4fce50>"
      ]
     },
     "execution_count": 15,
     "metadata": {},
     "output_type": "execute_result"
    }
   ],
   "source": [
    "cnn = Sequential([\n",
    "                  layers.Conv2D(32, (2,2), activation='relu', input_shape=(img_width, img_width, 3)),\n",
    "                  layers.MaxPooling2D(3,3),\n",
    "                  layers.Conv2D(64, kernel_size=(3,3),activation='relu',kernel_initializer='he_normal'),\n",
    "                  layers.MaxPooling2D(2,2),\n",
    "                  #layers.Conv2D(64, (2, 2), activation='relu'),\n",
    "                  layers.Conv2D(64, kernel_size=(2,2),activation='relu',kernel_initializer='he_normal'),\n",
    "                  layers.MaxPooling2D(2,2),\n",
    "                  layers.Flatten(),\n",
    "                  layers.Dense(128,activation='relu'),\n",
    "                  layers.Dense(9,activation='softmax',kernel_initializer='glorot_normal')\n",
    "                  \n",
    "])\n",
    "cnn.compile(optimizer='adam',loss='categorical_crossentropy',metrics=['accuracy'])\n",
    "cnn.fit(train_img, epochs=20)"
   ]
  },
  {
   "cell_type": "code",
   "execution_count": 23,
   "id": "ffdd684d",
   "metadata": {
    "ExecuteTime": {
     "end_time": "2022-10-19T14:54:06.277416Z",
     "start_time": "2022-10-19T14:45:54.160806Z"
    }
   },
   "outputs": [
    {
     "name": "stdout",
     "output_type": "stream",
     "text": [
      "Epoch 1/20\n",
      "70/70 [==============================] - 26s 377ms/step - loss: 0.2443 - accuracy: 0.8870\n",
      "Epoch 2/20\n",
      "70/70 [==============================] - 24s 347ms/step - loss: 0.2516 - accuracy: 0.9017\n",
      "Epoch 3/20\n",
      "70/70 [==============================] - 24s 345ms/step - loss: 0.2306 - accuracy: 0.8982\n",
      "Epoch 4/20\n",
      "70/70 [==============================] - 24s 349ms/step - loss: 0.2013 - accuracy: 0.9031\n",
      "Epoch 5/20\n",
      "70/70 [==============================] - 24s 342ms/step - loss: 0.1928 - accuracy: 0.9098\n",
      "Epoch 6/20\n",
      "70/70 [==============================] - 24s 343ms/step - loss: 0.2248 - accuracy: 0.8950\n",
      "Epoch 7/20\n",
      "70/70 [==============================] - 24s 341ms/step - loss: 0.2460 - accuracy: 0.8982\n",
      "Epoch 8/20\n",
      "70/70 [==============================] - 24s 344ms/step - loss: 0.2391 - accuracy: 0.8986\n",
      "Epoch 9/20\n",
      "70/70 [==============================] - 24s 343ms/step - loss: 0.3507 - accuracy: 0.8669\n",
      "Epoch 10/20\n",
      "70/70 [==============================] - 24s 344ms/step - loss: 0.2508 - accuracy: 0.8950\n",
      "Epoch 11/20\n",
      "70/70 [==============================] - 24s 343ms/step - loss: 0.2171 - accuracy: 0.9004\n",
      "Epoch 12/20\n",
      "70/70 [==============================] - 24s 344ms/step - loss: 0.2415 - accuracy: 0.9008\n",
      "Epoch 13/20\n",
      "70/70 [==============================] - 24s 344ms/step - loss: 0.1841 - accuracy: 0.9107\n",
      "Epoch 14/20\n",
      "70/70 [==============================] - 24s 344ms/step - loss: 0.2482 - accuracy: 0.8973\n",
      "Epoch 15/20\n",
      "70/70 [==============================] - 24s 342ms/step - loss: 0.2310 - accuracy: 0.8910\n",
      "Epoch 16/20\n",
      "70/70 [==============================] - 24s 345ms/step - loss: 0.2151 - accuracy: 0.9022\n",
      "Epoch 17/20\n",
      "70/70 [==============================] - 24s 345ms/step - loss: 0.2043 - accuracy: 0.9049\n",
      "Epoch 18/20\n",
      "70/70 [==============================] - 24s 341ms/step - loss: 0.2626 - accuracy: 0.8933\n",
      "Epoch 19/20\n",
      "70/70 [==============================] - 24s 349ms/step - loss: 0.2884 - accuracy: 0.8834\n",
      "Epoch 20/20\n",
      "70/70 [==============================] - 24s 338ms/step - loss: 0.2564 - accuracy: 0.8950\n"
     ]
    },
    {
     "data": {
      "text/plain": [
       "<tensorflow.python.keras.callbacks.History at 0x23a078222e0>"
      ]
     },
     "execution_count": 23,
     "metadata": {},
     "output_type": "execute_result"
    }
   ],
   "source": [
    "cnn.compile(optimizer='adam',loss='categorical_crossentropy',metrics=['accuracy'])\n",
    "cnn.fit(train_img, epochs=20)"
   ]
  },
  {
   "cell_type": "code",
   "execution_count": null,
   "id": "b783af38",
   "metadata": {},
   "outputs": [],
   "source": []
  }
 ],
 "metadata": {
  "kernelspec": {
   "display_name": "Python 3",
   "language": "python",
   "name": "python3"
  },
  "language_info": {
   "codemirror_mode": {
    "name": "ipython",
    "version": 3
   },
   "file_extension": ".py",
   "mimetype": "text/x-python",
   "name": "python",
   "nbconvert_exporter": "python",
   "pygments_lexer": "ipython3",
   "version": "3.8.8"
  }
 },
 "nbformat": 4,
 "nbformat_minor": 5
}
