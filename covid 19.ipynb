{
  "nbformat": 4,
  "nbformat_minor": 0,
  "metadata": {
    "colab": {
      "provenance": [],
      "authorship_tag": "ABX9TyOng++7JnRfd75QuU2PZeAq",
      "include_colab_link": true
    },
    "kernelspec": {
      "name": "python3",
      "display_name": "Python 3"
    },
    "language_info": {
      "name": "python"
    },
    "accelerator": "GPU",
    "gpuClass": "standard"
  },
  "cells": [
    {
      "cell_type": "markdown",
      "metadata": {
        "id": "view-in-github",
        "colab_type": "text"
      },
      "source": [
        "<a href=\"https://colab.research.google.com/github/ELSOUDY2030/Deep-Learning/blob/main/covid%2019.ipynb\" target=\"_parent\"><img src=\"https://colab.research.google.com/assets/colab-badge.svg\" alt=\"Open In Colab\"/></a>"
      ]
    },
    {
      "cell_type": "code",
      "execution_count": 1,
      "metadata": {
        "colab": {
          "base_uri": "https://localhost:8080/"
        },
        "id": "ezD61dO3WO1G",
        "outputId": "ab784a26-e21f-4268-aa51-5330f2658037"
      },
      "outputs": [
        {
          "output_type": "stream",
          "name": "stdout",
          "text": [
            "Looking in indexes: https://pypi.org/simple, https://us-python.pkg.dev/colab-wheels/public/simple/\n",
            "Requirement already satisfied: kaggle in /usr/local/lib/python3.8/dist-packages (1.5.13)\n",
            "Requirement already satisfied: python-dateutil in /usr/local/lib/python3.8/dist-packages (from kaggle) (2.8.2)\n",
            "Requirement already satisfied: six>=1.10 in /usr/local/lib/python3.8/dist-packages (from kaggle) (1.15.0)\n",
            "Requirement already satisfied: python-slugify in /usr/local/lib/python3.8/dist-packages (from kaggle) (8.0.1)\n",
            "Requirement already satisfied: tqdm in /usr/local/lib/python3.8/dist-packages (from kaggle) (4.64.1)\n",
            "Requirement already satisfied: requests in /usr/local/lib/python3.8/dist-packages (from kaggle) (2.25.1)\n",
            "Requirement already satisfied: urllib3 in /usr/local/lib/python3.8/dist-packages (from kaggle) (1.26.14)\n",
            "Requirement already satisfied: certifi in /usr/local/lib/python3.8/dist-packages (from kaggle) (2022.12.7)\n",
            "Requirement already satisfied: text-unidecode>=1.3 in /usr/local/lib/python3.8/dist-packages (from python-slugify->kaggle) (1.3)\n",
            "Requirement already satisfied: chardet<5,>=3.0.2 in /usr/local/lib/python3.8/dist-packages (from requests->kaggle) (4.0.0)\n",
            "Requirement already satisfied: idna<3,>=2.5 in /usr/local/lib/python3.8/dist-packages (from requests->kaggle) (2.10)\n",
            "\u001b[31mERROR: Operation cancelled by user\u001b[0m\u001b[31m\n",
            "\u001b[0mTraceback (most recent call last):\n",
            "  File \"/usr/local/lib/python3.8/dist-packages/pip/_vendor/pkg_resources/__init__.py\", line 3021, in _dep_map\n",
            "    return self.__dep_map\n",
            "  File \"/usr/local/lib/python3.8/dist-packages/pip/_vendor/pkg_resources/__init__.py\", line 2815, in __getattr__\n",
            "    raise AttributeError(attr)\n",
            "AttributeError: _DistInfoDistribution__dep_map\n",
            "\n",
            "During handling of the above exception, another exception occurred:\n",
            "\n",
            "Traceback (most recent call last):\n",
            "  File \"/usr/local/lib/python3.8/dist-packages/pip/_internal/cli/base_command.py\", line 167, in exc_logging_wrapper\n",
            "    status = run_func(*args)\n",
            "  File \"/usr/local/lib/python3.8/dist-packages/pip/_internal/cli/req_command.py\", line 199, in wrapper\n",
            "    return func(self, options, args)\n",
            "  File \"/usr/local/lib/python3.8/dist-packages/pip/_internal/commands/install.py\", line 397, in run\n",
            "    conflicts = self._determine_conflicts(to_install)\n",
            "  File \"/usr/local/lib/python3.8/dist-packages/pip/_internal/commands/install.py\", line 529, in _determine_conflicts\n",
            "    return check_install_conflicts(to_install)\n",
            "  File \"/usr/local/lib/python3.8/dist-packages/pip/_internal/operations/check.py\", line 101, in check_install_conflicts\n",
            "    package_set, _ = create_package_set_from_installed()\n",
            "  File \"/usr/local/lib/python3.8/dist-packages/pip/_internal/operations/check.py\", line 42, in create_package_set_from_installed\n",
            "    dependencies = list(dist.iter_dependencies())\n",
            "  File \"/usr/local/lib/python3.8/dist-packages/pip/_internal/metadata/pkg_resources.py\", line 202, in iter_dependencies\n",
            "    return self._dist.requires(extras)\n",
            "  File \"/usr/local/lib/python3.8/dist-packages/pip/_vendor/pkg_resources/__init__.py\", line 2736, in requires\n",
            "    dm = self._dep_map\n",
            "  File \"/usr/local/lib/python3.8/dist-packages/pip/_vendor/pkg_resources/__init__.py\", line 3023, in _dep_map\n",
            "    self.__dep_map = self._compute_dependencies()\n",
            "  File \"/usr/local/lib/python3.8/dist-packages/pip/_vendor/pkg_resources/__init__.py\", line 3033, in _compute_dependencies\n",
            "    reqs.extend(parse_requirements(req))\n",
            "  File \"/usr/local/lib/python3.8/dist-packages/pip/_vendor/pkg_resources/__init__.py\", line 3094, in parse_requirements\n",
            "    yield Requirement(line)\n",
            "  File \"/usr/local/lib/python3.8/dist-packages/pip/_vendor/pkg_resources/__init__.py\", line 3101, in __init__\n",
            "    super(Requirement, self).__init__(requirement_string)\n",
            "  File \"/usr/local/lib/python3.8/dist-packages/pip/_vendor/packaging/requirements.py\", line 102, in __init__\n",
            "    req = REQUIREMENT.parseString(requirement_string)\n",
            "  File \"/usr/local/lib/python3.8/dist-packages/pip/_vendor/pyparsing/core.py\", line 1124, in parse_string\n",
            "    loc, tokens = self._parse(instring, 0)\n",
            "  File \"/usr/local/lib/python3.8/dist-packages/pip/_vendor/pyparsing/core.py\", line 810, in _parseNoCache\n",
            "    loc, tokens = self.parseImpl(instring, pre_loc, doActions)\n",
            "  File \"/usr/local/lib/python3.8/dist-packages/pip/_vendor/pyparsing/core.py\", line 3865, in parseImpl\n",
            "    resultlist += exprtokens\n",
            "  File \"/usr/local/lib/python3.8/dist-packages/pip/_vendor/pyparsing/results.py\", line 443, in __iadd__\n",
            "    if isinstance(v[0], ParseResults):\n",
            "KeyboardInterrupt\n",
            "\n",
            "During handling of the above exception, another exception occurred:\n",
            "\n",
            "Traceback (most recent call last):\n",
            "  File \"/usr/local/bin/pip3\", line 8, in <module>\n",
            "    sys.exit(main())\n",
            "  File \"/usr/local/lib/python3.8/dist-packages/pip/_internal/cli/main.py\", line 70, in main\n",
            "    return command.main(cmd_args)\n",
            "  File \"/usr/local/lib/python3.8/dist-packages/pip/_internal/cli/base_command.py\", line 101, in main\n",
            "    return self._main(args)\n",
            "  File \"/usr/local/lib/python3.8/dist-packages/pip/_internal/cli/base_command.py\", line 221, in _main\n",
            "    return run(options, args)\n",
            "  File \"/usr/local/lib/python3.8/dist-packages/pip/_internal/cli/base_command.py\", line 204, in exc_logging_wrapper\n",
            "    logger.critical(\"Operation cancelled by user\")\n",
            "  File \"/usr/lib/python3.8/logging/__init__.py\", line 1493, in critical\n",
            "    self._log(CRITICAL, msg, args, **kwargs)\n",
            "  File \"/usr/lib/python3.8/logging/__init__.py\", line 1589, in _log\n",
            "    self.handle(record)\n",
            "  File \"/usr/lib/python3.8/logging/__init__.py\", line 1599, in handle\n",
            "    self.callHandlers(record)\n",
            "  File \"/usr/lib/python3.8/logging/__init__.py\", line 1661, in callHandlers\n",
            "    hdlr.handle(record)\n",
            "  File \"/usr/lib/python3.8/logging/__init__.py\", line 954, in handle\n",
            "    self.emit(record)\n",
            "  File \"/usr/lib/python3.8/logging/handlers.py\", line 71, in emit\n",
            "    logging.FileHandler.emit(self, record)\n",
            "  File \"/usr/lib/python3.8/logging/__init__.py\", line 1187, in emit\n",
            "    StreamHandler.emit(self, record)\n",
            "  File \"/usr/lib/python3.8/logging/__init__.py\", line 1085, in emit\n",
            "    msg = self.format(record)\n",
            "  File \"/usr/lib/python3.8/logging/__init__.py\", line 929, in format\n",
            "    return fmt.format(record)\n",
            "  File \"/usr/local/lib/python3.8/dist-packages/pip/_internal/utils/logging.py\", line 116, in format\n",
            "    prefix = f\"{self.formatTime(record)} \"\n",
            "  File \"/usr/lib/python3.8/logging/__init__.py\", line 610, in formatTime\n",
            "    t = time.strftime(self.default_time_format, ct)\n",
            "KeyboardInterrupt\n",
            "^C\n"
          ]
        }
      ],
      "source": [
        "!pip install kaggle\n"
      ]
    },
    {
      "cell_type": "code",
      "source": [
        "import os\n",
        "os.environ['KAGGLE_CONFIG_DIR'] = '/content'"
      ],
      "metadata": {
        "id": "7SKNc6CdWSah"
      },
      "execution_count": 2,
      "outputs": []
    },
    {
      "cell_type": "code",
      "source": [
        "!kaggle datasets download -d jtiptj/chest-xray-pneumoniacovid19tuberculosis"
      ],
      "metadata": {
        "colab": {
          "base_uri": "https://localhost:8080/"
        },
        "id": "xYgijkTEa1UB",
        "outputId": "900b3d81-ffe6-425f-d2f7-b353e590f576"
      },
      "execution_count": 3,
      "outputs": [
        {
          "output_type": "stream",
          "name": "stdout",
          "text": [
            "Warning: Your Kaggle API key is readable by other users on this system! To fix this, you can run 'chmod 600 /content/kaggle.json'\n",
            "chest-xray-pneumoniacovid19tuberculosis.zip: Skipping, found more recently modified local copy (use --force to force download)\n"
          ]
        }
      ]
    },
    {
      "cell_type": "code",
      "source": [
        "!unzip chest-xray-pneumoniacovid19tuberculosis"
      ],
      "metadata": {
        "colab": {
          "base_uri": "https://localhost:8080/"
        },
        "id": "EBzx1N_nbBub",
        "outputId": "19d82ae2-4776-45d7-e84c-0d9e196b5a79"
      },
      "execution_count": 4,
      "outputs": [
        {
          "output_type": "stream",
          "name": "stdout",
          "text": [
            "Archive:  chest-xray-pneumoniacovid19tuberculosis.zip\n",
            "replace test/COVID19/COVID19(460).jpg? [y]es, [n]o, [A]ll, [N]one, [r]ename: "
          ]
        }
      ]
    },
    {
      "cell_type": "code",
      "source": [
        "import tensorflow as tf\n",
        "from tensorflow import keras\n",
        "from keras.models import * \n",
        "from keras.layers import * \n",
        "from keras.callbacks import EarlyStopping\n",
        "import numpy as np\n",
        "from keras.preprocessing.image import ImageDataGenerator"
      ],
      "metadata": {
        "id": "daOhlei0biXE"
      },
      "execution_count": 5,
      "outputs": []
    },
    {
      "cell_type": "code",
      "source": [
        "train_data = ImageDataGenerator(rescale=1./255)\n",
        "test_data = ImageDataGenerator(rescale=1./255)\n",
        "val_data = ImageDataGenerator(rescale=1./255)"
      ],
      "metadata": {
        "id": "axdZIKQscUBI"
      },
      "execution_count": 6,
      "outputs": []
    },
    {
      "cell_type": "code",
      "source": [
        "train_set = train_data.flow_from_directory('/content/train', target_size=(224, 224), class_mode='categorical', batch_size=32,  shuffle=False)\n",
        "val_set = train_data.flow_from_directory('/content/val', target_size=(224, 224), class_mode='categorical', shuffle=False, batch_size=32)\n",
        "test_set = train_data.flow_from_directory('/content/test', target_size=(224, 224), class_mode='categorical', shuffle=False, batch_size=32)"
      ],
      "metadata": {
        "colab": {
          "base_uri": "https://localhost:8080/"
        },
        "id": "ekYhj9gjeqTD",
        "outputId": "5a60f2ef-54dd-4e93-9aa8-7e499a902815"
      },
      "execution_count": 7,
      "outputs": [
        {
          "output_type": "stream",
          "name": "stdout",
          "text": [
            "Found 6326 images belonging to 4 classes.\n",
            "Found 38 images belonging to 4 classes.\n",
            "Found 771 images belonging to 4 classes.\n"
          ]
        }
      ]
    },
    {
      "cell_type": "code",
      "source": [
        "model=Sequential()\n",
        "model.add(Conv2D(input_shape = (224,224,3), filters=64,kernel_size=(3,3),padding='same',activation='relu'))\n",
        "model.add(Conv2D( filters=64,kernel_size=(3,3),padding='same',activation='relu'))\n",
        "model.add(MaxPool2D(pool_size=(2,2), strides=(2,2)))\n",
        "\n",
        "\n",
        "model.add(Conv2D(filters=64,kernel_size=(3,3),padding='same',activation='relu'))\n",
        "model.add(Conv2D( filters=64,kernel_size=(3,3),padding='same',activation='relu'))\n",
        "model.add(MaxPool2D(pool_size=(2,2), strides=(2,2)))\n",
        "\n",
        "model.add(Conv2D(filters=64,kernel_size=(3,3),padding='same',activation='relu'))\n",
        "model.add(Conv2D( filters=64,kernel_size=(3,3),padding='same',activation='relu'))\n",
        "model.add(MaxPooling2D(pool_size=(2,2), strides=(2,2)))\n",
        "\n",
        "model.add(Conv2D(filters=64,kernel_size=(3,3),padding='same',activation='relu'))\n",
        "model.add(Conv2D( filters=64,kernel_size=(3,3),padding='same',activation='relu'))\n",
        "model.add(MaxPooling2D(pool_size=(2,2), strides=(2,2)))\n",
        "\n",
        "model.add(Flatten()) \n",
        "model.add(Dense(4096, activation='relu'))\n",
        "model.add(Dropout(0.5)) \n",
        "model.add(Dense(2048, activation='relu')) \n",
        "model.add(Dense(4, activation='softmax'))\n",
        "\n"
      ],
      "metadata": {
        "id": "THEbZpn2hVoU"
      },
      "execution_count": 8,
      "outputs": []
    },
    {
      "cell_type": "code",
      "source": [
        "model = Sequential(name='classifier')\n",
        "model.add(Input(shape=(224, 224, 3), name='input'))\n",
        "model.add(Conv2D(32, (3,3), activation='relu', padding='same', name='block1_conv1'))\n",
        "model.add(Conv2D(32, (3,3), activation='relu', padding='same', name='block1_conv2'))\n",
        "model.add(MaxPool2D(pool_size=(2,2), name='pool1'))\n",
        "\n",
        "model.add(Conv2D(64, (3,3), activation='relu', padding='same', name='block2_conv1'))\n",
        "model.add(Conv2D(64, (3,3), activation='relu', padding='same', name='block2_conv2'))\n",
        "model.add(MaxPool2D(pool_size=(2,2), name='pool2'))\n",
        "\n",
        "model.add(Conv2D(128, (3,3), activation='relu', padding='same', name='block3_conv1'))\n",
        "model.add(Conv2D(128, (3,3), activation='relu', padding='same', name='block3_conv2'))\n",
        "model.add(MaxPool2D(pool_size=(2,2), name='pool3'))\n",
        "\n",
        "model.add(Flatten(name='flatten'))\n",
        "model.add(Dropout(0.3, name='dropout1'))\n",
        "model.add(Dense(128, activation='relu', name='dense1'))\n",
        "model.add(Dense(4, activation='softmax', name='final'))\n",
        "\n",
        "model.summary()"
      ],
      "metadata": {
        "colab": {
          "base_uri": "https://localhost:8080/"
        },
        "id": "TPO7Lcm-07ro",
        "outputId": "e8b33674-7193-4afa-d9aa-429d543a538c"
      },
      "execution_count": 22,
      "outputs": [
        {
          "output_type": "stream",
          "name": "stdout",
          "text": [
            "Model: \"classifier\"\n",
            "_________________________________________________________________\n",
            " Layer (type)                Output Shape              Param #   \n",
            "=================================================================\n",
            " block1_conv1 (Conv2D)       (None, 224, 224, 32)      896       \n",
            "                                                                 \n",
            " block1_conv2 (Conv2D)       (None, 224, 224, 32)      9248      \n",
            "                                                                 \n",
            " pool1 (MaxPooling2D)        (None, 112, 112, 32)      0         \n",
            "                                                                 \n",
            " block2_conv1 (Conv2D)       (None, 112, 112, 64)      18496     \n",
            "                                                                 \n",
            " block2_conv2 (Conv2D)       (None, 112, 112, 64)      36928     \n",
            "                                                                 \n",
            " pool2 (MaxPooling2D)        (None, 56, 56, 64)        0         \n",
            "                                                                 \n",
            " block3_conv1 (Conv2D)       (None, 56, 56, 128)       73856     \n",
            "                                                                 \n",
            " block3_conv2 (Conv2D)       (None, 56, 56, 128)       147584    \n",
            "                                                                 \n",
            " pool3 (MaxPooling2D)        (None, 28, 28, 128)       0         \n",
            "                                                                 \n",
            " flatten (Flatten)           (None, 100352)            0         \n",
            "                                                                 \n",
            " dropout1 (Dropout)          (None, 100352)            0         \n",
            "                                                                 \n",
            " dense1 (Dense)              (None, 128)               12845184  \n",
            "                                                                 \n",
            " final (Dense)               (None, 4)                 516       \n",
            "                                                                 \n",
            "=================================================================\n",
            "Total params: 13,132,708\n",
            "Trainable params: 13,132,708\n",
            "Non-trainable params: 0\n",
            "_________________________________________________________________\n"
          ]
        }
      ]
    },
    {
      "cell_type": "code",
      "source": [
        "model.compile(loss=keras.losses.binary_crossentropy, optimizer=\"sgd\", metrics=['accuracy'])\n",
        "model.summary()"
      ],
      "metadata": {
        "colab": {
          "base_uri": "https://localhost:8080/"
        },
        "id": "WM1-hWtwovJf",
        "outputId": "1097b9b1-892f-4578-83d9-186babb89f3b"
      },
      "execution_count": 23,
      "outputs": [
        {
          "output_type": "stream",
          "name": "stdout",
          "text": [
            "Model: \"classifier\"\n",
            "_________________________________________________________________\n",
            " Layer (type)                Output Shape              Param #   \n",
            "=================================================================\n",
            " block1_conv1 (Conv2D)       (None, 224, 224, 32)      896       \n",
            "                                                                 \n",
            " block1_conv2 (Conv2D)       (None, 224, 224, 32)      9248      \n",
            "                                                                 \n",
            " pool1 (MaxPooling2D)        (None, 112, 112, 32)      0         \n",
            "                                                                 \n",
            " block2_conv1 (Conv2D)       (None, 112, 112, 64)      18496     \n",
            "                                                                 \n",
            " block2_conv2 (Conv2D)       (None, 112, 112, 64)      36928     \n",
            "                                                                 \n",
            " pool2 (MaxPooling2D)        (None, 56, 56, 64)        0         \n",
            "                                                                 \n",
            " block3_conv1 (Conv2D)       (None, 56, 56, 128)       73856     \n",
            "                                                                 \n",
            " block3_conv2 (Conv2D)       (None, 56, 56, 128)       147584    \n",
            "                                                                 \n",
            " pool3 (MaxPooling2D)        (None, 28, 28, 128)       0         \n",
            "                                                                 \n",
            " flatten (Flatten)           (None, 100352)            0         \n",
            "                                                                 \n",
            " dropout1 (Dropout)          (None, 100352)            0         \n",
            "                                                                 \n",
            " dense1 (Dense)              (None, 128)               12845184  \n",
            "                                                                 \n",
            " final (Dense)               (None, 4)                 516       \n",
            "                                                                 \n",
            "=================================================================\n",
            "Total params: 13,132,708\n",
            "Trainable params: 13,132,708\n",
            "Non-trainable params: 0\n",
            "_________________________________________________________________\n"
          ]
        }
      ]
    },
    {
      "cell_type": "code",
      "source": [
        "result = model.fit(train_set, epochs=20, validation_data=val_set, steps_per_epoch=len(train_set), validation_steps=len(val_set), \n",
        "                   callbacks= EarlyStopping(patience=8, restore_best_weights=True))"
      ],
      "metadata": {
        "colab": {
          "base_uri": "https://localhost:8080/"
        },
        "id": "x1ts2S3JrKNz",
        "outputId": "c75628a9-806b-4099-8f90-2cb0e5b07446"
      },
      "execution_count": 31,
      "outputs": [
        {
          "output_type": "stream",
          "name": "stdout",
          "text": [
            "Epoch 1/20\n",
            "198/198 [==============================] - 84s 426ms/step - loss: 0.0303 - accuracy: 0.9823 - val_loss: 0.1409 - val_accuracy: 0.8947\n",
            "Epoch 2/20\n",
            "198/198 [==============================] - 85s 430ms/step - loss: 0.0275 - accuracy: 0.9813 - val_loss: 0.2356 - val_accuracy: 0.7895\n",
            "Epoch 3/20\n",
            "198/198 [==============================] - 84s 427ms/step - loss: 0.0208 - accuracy: 0.9889 - val_loss: 0.1361 - val_accuracy: 0.9211\n",
            "Epoch 4/20\n",
            "198/198 [==============================] - 85s 430ms/step - loss: 0.0196 - accuracy: 0.9874 - val_loss: 0.1363 - val_accuracy: 0.8947\n",
            "Epoch 5/20\n",
            "198/198 [==============================] - 83s 421ms/step - loss: 0.0183 - accuracy: 0.9894 - val_loss: 0.1550 - val_accuracy: 0.8947\n",
            "Epoch 6/20\n",
            "198/198 [==============================] - 85s 428ms/step - loss: 0.0158 - accuracy: 0.9905 - val_loss: 0.2087 - val_accuracy: 0.7895\n",
            "Epoch 7/20\n",
            "198/198 [==============================] - 84s 427ms/step - loss: 0.0123 - accuracy: 0.9938 - val_loss: 0.1630 - val_accuracy: 0.8684\n",
            "Epoch 8/20\n",
            "198/198 [==============================] - 83s 412ms/step - loss: 0.0102 - accuracy: 0.9951 - val_loss: 0.2646 - val_accuracy: 0.8421\n",
            "Epoch 9/20\n",
            "198/198 [==============================] - 83s 420ms/step - loss: 0.0103 - accuracy: 0.9934 - val_loss: 0.2305 - val_accuracy: 0.8421\n",
            "Epoch 10/20\n",
            "198/198 [==============================] - 83s 418ms/step - loss: 0.0071 - accuracy: 0.9973 - val_loss: 0.2363 - val_accuracy: 0.8684\n",
            "Epoch 11/20\n",
            "198/198 [==============================] - 84s 423ms/step - loss: 0.0073 - accuracy: 0.9965 - val_loss: 0.3529 - val_accuracy: 0.8158\n"
          ]
        }
      ]
    },
    {
      "cell_type": "code",
      "source": [],
      "metadata": {
        "id": "antcdpLLamr7"
      },
      "execution_count": null,
      "outputs": []
    },
    {
      "cell_type": "code",
      "source": [
        "model.evaluate(test_set)"
      ],
      "metadata": {
        "colab": {
          "base_uri": "https://localhost:8080/"
        },
        "id": "btRvBh1P0dgG",
        "outputId": "1db64ff2-7739-47ba-edcf-440127484f2f"
      },
      "execution_count": 33,
      "outputs": [
        {
          "output_type": "stream",
          "name": "stdout",
          "text": [
            "25/25 [==============================] - 10s 350ms/step - loss: 0.4304 - accuracy: 0.8340\n"
          ]
        },
        {
          "output_type": "execute_result",
          "data": {
            "text/plain": [
              "[0.4303913116455078, 0.8339818120002747]"
            ]
          },
          "metadata": {},
          "execution_count": 33
        }
      ]
    },
    {
      "cell_type": "code",
      "source": [
        "from google.colab import drive\n",
        "drive.mount('/content/drive')\n",
        "from keras.models import save_model\n",
        "model.save('/content/drive/MyDrive/Colab Notebooks/Covid19_binary.h5')"
      ],
      "metadata": {
        "colab": {
          "base_uri": "https://localhost:8080/"
        },
        "id": "sLAaGjdO0lto",
        "outputId": "0c801ae9-a1df-4714-bfd3-a9a436feed49"
      },
      "execution_count": 34,
      "outputs": [
        {
          "output_type": "stream",
          "name": "stdout",
          "text": [
            "Mounted at /content/drive\n"
          ]
        }
      ]
    }
  ]
}