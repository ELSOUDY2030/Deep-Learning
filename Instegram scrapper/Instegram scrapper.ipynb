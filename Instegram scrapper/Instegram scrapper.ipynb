{
 "cells": [
  {
   "cell_type": "code",
   "execution_count": 1,
   "id": "8a1f2e3d",
   "metadata": {
    "ExecuteTime": {
     "end_time": "2022-10-10T01:57:12.500956Z",
     "start_time": "2022-10-10T01:57:12.496955Z"
    }
   },
   "outputs": [],
   "source": [
    "import os\n",
    "import time\n",
    "import wget"
   ]
  },
  {
   "cell_type": "code",
   "execution_count": 2,
   "id": "c58e036e",
   "metadata": {
    "ExecuteTime": {
     "end_time": "2022-10-10T01:57:13.451185Z",
     "start_time": "2022-10-10T01:57:13.392560Z"
    }
   },
   "outputs": [],
   "source": [
    "from selenium import webdriver\n",
    "from selenium.webdriver.common.keys import Keys\n",
    "from selenium.webdriver.support import expected_conditions\n",
    "from selenium.webdriver.common.by import By\n",
    "from selenium.webdriver.support.wait import WebDriverWait"
   ]
  },
  {
   "cell_type": "markdown",
   "id": "434c576b",
   "metadata": {
    "ExecuteTime": {
     "end_time": "2022-08-21T16:30:21.423033Z",
     "start_time": "2022-08-21T16:30:21.401867Z"
    }
   },
   "source": [
    "554477991100\n",
    "mohammadnomer2040"
   ]
  },
  {
   "cell_type": "code",
   "execution_count": 3,
   "id": "170a1efb",
   "metadata": {
    "ExecuteTime": {
     "end_time": "2022-10-10T01:57:15.406531Z",
     "start_time": "2022-10-10T01:57:14.450254Z"
    }
   },
   "outputs": [],
   "source": [
    "dr = webdriver.Chrome(\"chromedriver.exe\")"
   ]
  },
  {
   "cell_type": "code",
   "execution_count": 4,
   "id": "07b421f2",
   "metadata": {
    "ExecuteTime": {
     "end_time": "2022-10-10T01:57:22.245684Z",
     "start_time": "2022-10-10T01:57:21.066698Z"
    }
   },
   "outputs": [],
   "source": [
    "dr.get(\"https://www.instagram.com/\")"
   ]
  },
  {
   "cell_type": "code",
   "execution_count": 5,
   "id": "19942139",
   "metadata": {
    "ExecuteTime": {
     "end_time": "2022-10-10T01:57:22.788812Z",
     "start_time": "2022-10-10T01:57:22.728799Z"
    }
   },
   "outputs": [],
   "source": [
    "dr.find_element_by_xpath('/html/body/div[1]/section/main/article/div[2]/div[1]/div[2]/form/div/div[1]/div/label/input').send_keys('mohammadnomer2040')"
   ]
  },
  {
   "cell_type": "code",
   "execution_count": 6,
   "id": "98bfe301",
   "metadata": {
    "ExecuteTime": {
     "end_time": "2022-10-10T01:57:36.561253Z",
     "start_time": "2022-10-10T01:57:36.509085Z"
    }
   },
   "outputs": [],
   "source": [
    "dr.find_element_by_xpath(\"/html/body/div[1]/section/main/article/div[2]/div[1]/div[2]/form/div/div[2]/div/label/input\").send_keys('#@%$121212')"
   ]
  },
  {
   "cell_type": "code",
   "execution_count": 7,
   "id": "66115a68",
   "metadata": {
    "ExecuteTime": {
     "end_time": "2022-10-10T01:57:50.789253Z",
     "start_time": "2022-10-10T01:57:42.312993Z"
    }
   },
   "outputs": [
    {
     "ename": "NoSuchElementException",
     "evalue": "Message: no such element: Unable to locate element: {\"method\":\"xpath\",\"selector\":\"/html/body/div[1]/section/main/div/div/div/section/div/button\"}\n  (Session info: chrome=106.0.5249.103)\n",
     "output_type": "error",
     "traceback": [
      "\u001b[1;31m---------------------------------------------------------------------------\u001b[0m",
      "\u001b[1;31mNoSuchElementException\u001b[0m                    Traceback (most recent call last)",
      "\u001b[1;32m<ipython-input-7-12c2c21acdf6>\u001b[0m in \u001b[0;36m<module>\u001b[1;34m\u001b[0m\n\u001b[0;32m      1\u001b[0m \u001b[0mdr\u001b[0m\u001b[1;33m.\u001b[0m\u001b[0mfind_element_by_xpath\u001b[0m\u001b[1;33m(\u001b[0m\u001b[1;34m\"/html/body/div[1]/section/main/article/div[2]/div[1]/div[2]/form/div/div[3]/button/div\"\u001b[0m\u001b[1;33m)\u001b[0m\u001b[1;33m.\u001b[0m\u001b[0mclick\u001b[0m\u001b[1;33m(\u001b[0m\u001b[1;33m)\u001b[0m\u001b[1;33m\u001b[0m\u001b[1;33m\u001b[0m\u001b[0m\n\u001b[0;32m      2\u001b[0m \u001b[0mtime\u001b[0m\u001b[1;33m.\u001b[0m\u001b[0msleep\u001b[0m\u001b[1;33m(\u001b[0m\u001b[1;36m5\u001b[0m\u001b[1;33m)\u001b[0m\u001b[1;33m\u001b[0m\u001b[1;33m\u001b[0m\u001b[0m\n\u001b[1;32m----> 3\u001b[1;33m \u001b[0mdr\u001b[0m\u001b[1;33m.\u001b[0m\u001b[0mfind_element_by_xpath\u001b[0m\u001b[1;33m(\u001b[0m\u001b[1;34m\"/html/body/div[1]/section/main/div/div/div/section/div/button\"\u001b[0m\u001b[1;33m)\u001b[0m\u001b[1;33m.\u001b[0m\u001b[0mclick\u001b[0m\u001b[1;33m(\u001b[0m\u001b[1;33m)\u001b[0m\u001b[1;33m\u001b[0m\u001b[1;33m\u001b[0m\u001b[0m\n\u001b[0m\u001b[0;32m      4\u001b[0m \u001b[0mtime\u001b[0m\u001b[1;33m.\u001b[0m\u001b[0msleep\u001b[0m\u001b[1;33m(\u001b[0m\u001b[1;36m5\u001b[0m\u001b[1;33m)\u001b[0m\u001b[1;33m\u001b[0m\u001b[1;33m\u001b[0m\u001b[0m\n\u001b[0;32m      5\u001b[0m \u001b[0mdr\u001b[0m\u001b[1;33m.\u001b[0m\u001b[0mfind_element_by_xpath\u001b[0m\u001b[1;33m(\u001b[0m\u001b[1;34m\"/html/body/div[1]/div/div/div/div[2]/div/div/div[1]/div/div[2]/div/div/div/div/div[2]/div/div/div[3]/button[2]\"\u001b[0m\u001b[1;33m)\u001b[0m\u001b[1;33m.\u001b[0m\u001b[0mclick\u001b[0m\u001b[1;33m(\u001b[0m\u001b[1;33m)\u001b[0m\u001b[1;33m\u001b[0m\u001b[1;33m\u001b[0m\u001b[0m\n",
      "\u001b[1;32m~\\.conda\\envs\\conda\\lib\\site-packages\\selenium\\webdriver\\remote\\webdriver.py\u001b[0m in \u001b[0;36mfind_element_by_xpath\u001b[1;34m(self, xpath)\u001b[0m\n\u001b[0;32m    392\u001b[0m             \u001b[0melement\u001b[0m \u001b[1;33m=\u001b[0m \u001b[0mdriver\u001b[0m\u001b[1;33m.\u001b[0m\u001b[0mfind_element_by_xpath\u001b[0m\u001b[1;33m(\u001b[0m\u001b[1;34m'//div/td[1]'\u001b[0m\u001b[1;33m)\u001b[0m\u001b[1;33m\u001b[0m\u001b[1;33m\u001b[0m\u001b[0m\n\u001b[0;32m    393\u001b[0m         \"\"\"\n\u001b[1;32m--> 394\u001b[1;33m         \u001b[1;32mreturn\u001b[0m \u001b[0mself\u001b[0m\u001b[1;33m.\u001b[0m\u001b[0mfind_element\u001b[0m\u001b[1;33m(\u001b[0m\u001b[0mby\u001b[0m\u001b[1;33m=\u001b[0m\u001b[0mBy\u001b[0m\u001b[1;33m.\u001b[0m\u001b[0mXPATH\u001b[0m\u001b[1;33m,\u001b[0m \u001b[0mvalue\u001b[0m\u001b[1;33m=\u001b[0m\u001b[0mxpath\u001b[0m\u001b[1;33m)\u001b[0m\u001b[1;33m\u001b[0m\u001b[1;33m\u001b[0m\u001b[0m\n\u001b[0m\u001b[0;32m    395\u001b[0m \u001b[1;33m\u001b[0m\u001b[0m\n\u001b[0;32m    396\u001b[0m     \u001b[1;32mdef\u001b[0m \u001b[0mfind_elements_by_xpath\u001b[0m\u001b[1;33m(\u001b[0m\u001b[0mself\u001b[0m\u001b[1;33m,\u001b[0m \u001b[0mxpath\u001b[0m\u001b[1;33m)\u001b[0m\u001b[1;33m:\u001b[0m\u001b[1;33m\u001b[0m\u001b[1;33m\u001b[0m\u001b[0m\n",
      "\u001b[1;32m~\\.conda\\envs\\conda\\lib\\site-packages\\selenium\\webdriver\\remote\\webdriver.py\u001b[0m in \u001b[0;36mfind_element\u001b[1;34m(self, by, value)\u001b[0m\n\u001b[0;32m    974\u001b[0m                 \u001b[0mby\u001b[0m \u001b[1;33m=\u001b[0m \u001b[0mBy\u001b[0m\u001b[1;33m.\u001b[0m\u001b[0mCSS_SELECTOR\u001b[0m\u001b[1;33m\u001b[0m\u001b[1;33m\u001b[0m\u001b[0m\n\u001b[0;32m    975\u001b[0m                 \u001b[0mvalue\u001b[0m \u001b[1;33m=\u001b[0m \u001b[1;34m'[name=\"%s\"]'\u001b[0m \u001b[1;33m%\u001b[0m \u001b[0mvalue\u001b[0m\u001b[1;33m\u001b[0m\u001b[1;33m\u001b[0m\u001b[0m\n\u001b[1;32m--> 976\u001b[1;33m         return self.execute(Command.FIND_ELEMENT, {\n\u001b[0m\u001b[0;32m    977\u001b[0m             \u001b[1;34m'using'\u001b[0m\u001b[1;33m:\u001b[0m \u001b[0mby\u001b[0m\u001b[1;33m,\u001b[0m\u001b[1;33m\u001b[0m\u001b[1;33m\u001b[0m\u001b[0m\n\u001b[0;32m    978\u001b[0m             'value': value})['value']\n",
      "\u001b[1;32m~\\.conda\\envs\\conda\\lib\\site-packages\\selenium\\webdriver\\remote\\webdriver.py\u001b[0m in \u001b[0;36mexecute\u001b[1;34m(self, driver_command, params)\u001b[0m\n\u001b[0;32m    319\u001b[0m         \u001b[0mresponse\u001b[0m \u001b[1;33m=\u001b[0m \u001b[0mself\u001b[0m\u001b[1;33m.\u001b[0m\u001b[0mcommand_executor\u001b[0m\u001b[1;33m.\u001b[0m\u001b[0mexecute\u001b[0m\u001b[1;33m(\u001b[0m\u001b[0mdriver_command\u001b[0m\u001b[1;33m,\u001b[0m \u001b[0mparams\u001b[0m\u001b[1;33m)\u001b[0m\u001b[1;33m\u001b[0m\u001b[1;33m\u001b[0m\u001b[0m\n\u001b[0;32m    320\u001b[0m         \u001b[1;32mif\u001b[0m \u001b[0mresponse\u001b[0m\u001b[1;33m:\u001b[0m\u001b[1;33m\u001b[0m\u001b[1;33m\u001b[0m\u001b[0m\n\u001b[1;32m--> 321\u001b[1;33m             \u001b[0mself\u001b[0m\u001b[1;33m.\u001b[0m\u001b[0merror_handler\u001b[0m\u001b[1;33m.\u001b[0m\u001b[0mcheck_response\u001b[0m\u001b[1;33m(\u001b[0m\u001b[0mresponse\u001b[0m\u001b[1;33m)\u001b[0m\u001b[1;33m\u001b[0m\u001b[1;33m\u001b[0m\u001b[0m\n\u001b[0m\u001b[0;32m    322\u001b[0m             response['value'] = self._unwrap_value(\n\u001b[0;32m    323\u001b[0m                 response.get('value', None))\n",
      "\u001b[1;32m~\\.conda\\envs\\conda\\lib\\site-packages\\selenium\\webdriver\\remote\\errorhandler.py\u001b[0m in \u001b[0;36mcheck_response\u001b[1;34m(self, response)\u001b[0m\n\u001b[0;32m    240\u001b[0m                 \u001b[0malert_text\u001b[0m \u001b[1;33m=\u001b[0m \u001b[0mvalue\u001b[0m\u001b[1;33m[\u001b[0m\u001b[1;34m'alert'\u001b[0m\u001b[1;33m]\u001b[0m\u001b[1;33m.\u001b[0m\u001b[0mget\u001b[0m\u001b[1;33m(\u001b[0m\u001b[1;34m'text'\u001b[0m\u001b[1;33m)\u001b[0m\u001b[1;33m\u001b[0m\u001b[1;33m\u001b[0m\u001b[0m\n\u001b[0;32m    241\u001b[0m             \u001b[1;32mraise\u001b[0m \u001b[0mexception_class\u001b[0m\u001b[1;33m(\u001b[0m\u001b[0mmessage\u001b[0m\u001b[1;33m,\u001b[0m \u001b[0mscreen\u001b[0m\u001b[1;33m,\u001b[0m \u001b[0mstacktrace\u001b[0m\u001b[1;33m,\u001b[0m \u001b[0malert_text\u001b[0m\u001b[1;33m)\u001b[0m\u001b[1;33m\u001b[0m\u001b[1;33m\u001b[0m\u001b[0m\n\u001b[1;32m--> 242\u001b[1;33m         \u001b[1;32mraise\u001b[0m \u001b[0mexception_class\u001b[0m\u001b[1;33m(\u001b[0m\u001b[0mmessage\u001b[0m\u001b[1;33m,\u001b[0m \u001b[0mscreen\u001b[0m\u001b[1;33m,\u001b[0m \u001b[0mstacktrace\u001b[0m\u001b[1;33m)\u001b[0m\u001b[1;33m\u001b[0m\u001b[1;33m\u001b[0m\u001b[0m\n\u001b[0m\u001b[0;32m    243\u001b[0m \u001b[1;33m\u001b[0m\u001b[0m\n\u001b[0;32m    244\u001b[0m     \u001b[1;32mdef\u001b[0m \u001b[0m_value_or_default\u001b[0m\u001b[1;33m(\u001b[0m\u001b[0mself\u001b[0m\u001b[1;33m,\u001b[0m \u001b[0mobj\u001b[0m\u001b[1;33m,\u001b[0m \u001b[0mkey\u001b[0m\u001b[1;33m,\u001b[0m \u001b[0mdefault\u001b[0m\u001b[1;33m)\u001b[0m\u001b[1;33m:\u001b[0m\u001b[1;33m\u001b[0m\u001b[1;33m\u001b[0m\u001b[0m\n",
      "\u001b[1;31mNoSuchElementException\u001b[0m: Message: no such element: Unable to locate element: {\"method\":\"xpath\",\"selector\":\"/html/body/div[1]/section/main/div/div/div/section/div/button\"}\n  (Session info: chrome=106.0.5249.103)\n"
     ]
    }
   ],
   "source": [
    "dr.find_element_by_xpath(\"/html/body/div[1]/section/main/article/div[2]/div[1]/div[2]/form/div/div[3]/button/div\").click()\n",
    "time.sleep(5)\n",
    "dr.find_element_by_xpath(\"/html/body/div[1]/section/main/div/div/div/section/div/button\").click()\n",
    "time.sleep(5)\n",
    "dr.find_element_by_xpath(\"/html/body/div[1]/div/div/div/div[2]/div/div/div[1]/div/div[2]/div/div/div/div/div[2]/div/div/div[3]/button[2]\").click()"
   ]
  },
  {
   "cell_type": "code",
   "execution_count": 1,
   "id": "9e3ed60c",
   "metadata": {
    "ExecuteTime": {
     "end_time": "2022-08-22T12:56:44.573475Z",
     "start_time": "2022-08-22T12:56:44.558495Z"
    }
   },
   "outputs": [],
   "source": [
    "#dr.execute_script(\"window.scrollTo(0,document.body.scrollHeight)\")\n",
    "#dr.execute_script(\"window.scrollTo(0,400000000000000000);\")\n"
   ]
  },
  {
   "cell_type": "code",
   "execution_count": 8,
   "id": "d1173823",
   "metadata": {
    "ExecuteTime": {
     "end_time": "2022-10-10T01:59:31.515607Z",
     "start_time": "2022-10-10T01:58:19.221054Z"
    },
    "scrolled": true
   },
   "outputs": [
    {
     "data": {
      "text/plain": [
       "['https://instagram.fcai19-3.fna.fbcdn.net/v/t51.2885-15/310904820_164875042886910_2642277551385247618_n.webp?stp=dst-jpg_e35&_nc_ht=instagram.fcai19-3.fna.fbcdn.net&_nc_cat=1&_nc_ohc=XtoL_cJHvCkAX8IUnat&tn=A472mwzkinIW63g5&edm=AGyKU4gBAAAA&ccb=7-5&ig_cache_key=Mjk0NTUzMTE3Nzk1MjQ2NzY4Mw%3D%3D.2-ccb7-5&oh=00_AT81yM7qLaRaTf2Q7TjF1I8VxwYYmOgaGSeni3VyWPIbgw&oe=634A5DD9&_nc_sid=4cb768',\n",
       " 'https://instagram.fcai19-3.fna.fbcdn.net/v/t51.2885-15/310904820_164875042886910_2642277551385247618_n.webp?stp=dst-jpg_e35&_nc_ht=instagram.fcai19-3.fna.fbcdn.net&_nc_cat=1&_nc_ohc=XtoL_cJHvCkAX8IUnat&tn=A472mwzkinIW63g5&edm=AGyKU4gBAAAA&ccb=7-5&ig_cache_key=Mjk0NTUzMTE3Nzk1MjQ2NzY4Mw%3D%3D.2-ccb7-5&oh=00_AT81yM7qLaRaTf2Q7TjF1I8VxwYYmOgaGSeni3VyWPIbgw&oe=634A5DD9&_nc_sid=4cb768',\n",
       " 'https://instagram.fcai19-3.fna.fbcdn.net/v/t51.2885-15/310952807_674493790699054_778995615732932850_n.webp?stp=dst-jpg_e35&_nc_ht=instagram.fcai19-3.fna.fbcdn.net&_nc_cat=1&_nc_ohc=OdffaC2c-iYAX8iXmRe&edm=AGyKU4gBAAAA&ccb=7-5&ig_cache_key=Mjk0NTU1ODc5MTQ0NjgzNDkxNw%3D%3D.2-ccb7-5&oh=00_AT-hz-TmvSqCAfgRQ00PstZIwhiH1CXgTSCY9EMU3zr_5A&oe=634A0C64&_nc_sid=4cb768',\n",
       " 'https://instagram.fcai19-3.fna.fbcdn.net/v/t51.2885-15/310980765_1758387217860514_8714542563281274400_n.webp?stp=dst-jpg_e35&_nc_ht=instagram.fcai19-3.fna.fbcdn.net&_nc_cat=110&_nc_ohc=5AphAPGvNAgAX_csE0J&edm=AGyKU4gBAAAA&ccb=7-5&ig_cache_key=Mjk0NTUwMzEyNzc1NTExNDgxNg%3D%3D.2-ccb7-5&oh=00_AT_Bg2-tRuYnKPilZgy2BC8SiARkBEPi_JL301eOtinBPg&oe=634B32C8&_nc_sid=4cb768',\n",
       " 'https://instagram.fcai19-3.fna.fbcdn.net/v/t51.2885-15/310969179_660901518683071_2794075569215158636_n.webp?stp=dst-jpg_e35&_nc_ht=instagram.fcai19-3.fna.fbcdn.net&_nc_cat=107&_nc_ohc=KhaCby0Tw0cAX9doUHQ&edm=AGyKU4gBAAAA&ccb=7-5&ig_cache_key=Mjk0NTYxMzc3MTY1NzQxMjgxNA%3D%3D.2-ccb7-5&oh=00_AT_8ifT8KXFbkxlN9bZhHOzfTgeNiXwloa2T6QtkNWcg-w&oe=6349B814&_nc_sid=4cb768',\n",
       " 'https://instagram.fcai19-3.fna.fbcdn.net/v/t51.2885-15/311005343_512463470327271_7158438333541487363_n.webp?stp=dst-jpg_e35&_nc_ht=instagram.fcai19-3.fna.fbcdn.net&_nc_cat=103&_nc_ohc=6YJlYuR1eGUAX8ZjDQM&edm=AGyKU4gBAAAA&ccb=7-5&ig_cache_key=Mjk0NTM5MjEwNTM3NjQ5NDkxMQ%3D%3D.2-ccb7-5&oh=00_AT9atfVAUvo1DrjRal84JA1TME78fc-E8DDyhU-Ynpq6Kg&oe=634ACD1D&_nc_sid=4cb768',\n",
       " 'https://instagram.fcai19-3.fna.fbcdn.net/v/t51.2885-15/310954915_1304185827043493_9062694520436527845_n.webp?stp=dst-jpg_e35&_nc_ht=instagram.fcai19-3.fna.fbcdn.net&_nc_cat=1&_nc_ohc=AQqD_cofO4cAX8e8W9G&tn=A472mwzkinIW63g5&edm=AGyKU4gBAAAA&ccb=7-5&ig_cache_key=Mjk0NTU0MjcyODYyMTk4ODIzMA%3D%3D.2-ccb7-5&oh=00_AT_Yb-EbUg_rHngVHdZV2fTcKe-id13OeYsMB2TM69dvEg&oe=63497D71&_nc_sid=4cb768',\n",
       " 'https://instagram.fcai19-3.fna.fbcdn.net/v/t51.2885-15/311189396_2821807107964263_3290839306131546789_n.webp?stp=dst-jpg_e35&_nc_ht=instagram.fcai19-3.fna.fbcdn.net&_nc_cat=1&_nc_ohc=WY1iGARIr_kAX8NMEIh&edm=AGyKU4gBAAAA&ccb=7-5&ig_cache_key=Mjk0NTQxMDc0MDcxOTAyNjg5OQ%3D%3D.2-ccb7-5&oh=00_AT_C1xa2tzQ2rNFVXTLnYtedQbtcaaqx2lWcNwkcI_DwYg&oe=6349A16A&_nc_sid=4cb768',\n",
       " 'https://instagram.fcai19-3.fna.fbcdn.net/v/t51.2885-15/310959870_801514014308119_5642332289127055107_n.jpg?stp=dst-jpg_e35&_nc_ht=instagram.fcai19-3.fna.fbcdn.net&_nc_cat=107&_nc_ohc=zd8eTv9O_dsAX-_O5Ie&tn=A472mwzkinIW63g5&edm=AGyKU4gBAAAA&ccb=7-5&ig_cache_key=Mjk0NTQxMTk3MTIzNTMwMjU5MQ%3D%3D.2-ccb7-5&oh=00_AT8ImWLGB6yPXq2lFyhOd3ggnvCjfUT-hILeky2j3EqUFg&oe=634A7CA9&_nc_sid=4cb768',\n",
       " 'https://instagram.fcai19-3.fna.fbcdn.net/v/t51.2885-15/311210834_5546282642123805_6479952138256931823_n.jpg?stp=dst-jpg_e35&_nc_ht=instagram.fcai19-3.fna.fbcdn.net&_nc_cat=109&_nc_ohc=-Xokd0bbKaEAX_AKP3R&edm=AGyKU4gBAAAA&ccb=7-5&ig_cache_key=Mjk0NTQ5MjAxNjUyMzgzMjEzMg%3D%3D.2-ccb7-5&oh=00_AT9Sik-dLFKJSHVtdTSyRVmXe5myVTD65g841G0pqj83iw&oe=634B5D4C&_nc_sid=4cb768',\n",
       " 'https://scontent-lcy1-1.cdninstagram.com/v/t51.2885-19/44884218_345707102882519_2446069589734326272_n.jpg?_nc_ht=scontent-lcy1-1.cdninstagram.com&_nc_cat=1&_nc_ohc=HiFOb1QSEzcAX_0m7fY&edm=AId3EpQBAAAA&ccb=7-5&ig_cache_key=YW5vbnltb3VzX3Byb2ZpbGVfcGlj.2-ccb7-5&oh=00_AT8tsWhhxk7D6zWLVLHVc2wC6giS_sAwEHjzXBF7b40BJA&oe=63496ECF&_nc_sid=705020']"
      ]
     },
     "execution_count": 8,
     "metadata": {},
     "output_type": "execute_result"
    }
   ],
   "source": [
    "name = 'Cars'\n",
    "dr.find_element_by_xpath(\"/html/body/div[1]/div/div/div/div[1]/div/div/div/div[1]/section/nav/div[2]/div/div/div[2]/div[1]/div\").click()\n",
    "time.sleep(3)\n",
    "dr.find_element_by_xpath(\"/html/body/div[1]/div/div/div/div[1]/div/div/div/div[1]/section/nav/div[2]/div/div/div[2]/input\").clear()\n",
    "dr.find_element_by_xpath(\"/html/body/div[1]/div/div/div/div[1]/div/div/div/div[1]/section/nav/div[2]/div/div/div[2]/input\").send_keys('#'+ name)\n",
    "time.sleep(3)\n",
    "dr.find_element_by_xpath(\"/html/body/div[1]/div/div/div/div[1]/div/div/div/div[1]/section/nav/div[2]/div/div/div[2]/input\").send_keys(Keys.ENTER)\n",
    "dr.find_element_by_xpath(\"/html/body/div[1]/div/div/div/div[1]/div/div/div/div[1]/section/nav/div[2]/div/div/div[2]/input\").send_keys(Keys.ENTER)\n",
    "\n",
    "time.sleep(6)\n",
    "\n",
    "for i in range(0,6):\n",
    "    dr.execute_script(\"window.scrollTo(0,document.body.scrollHeight)\")\n",
    "    time.sleep(10)\n",
    "images = dr.find_elements_by_tag_name('img')\n",
    "images = [image.get_attribute('src') for image in images]\n",
    "images\n"
   ]
  },
  {
   "cell_type": "markdown",
   "id": "f469b380",
   "metadata": {
    "ExecuteTime": {
     "end_time": "2022-08-21T19:14:27.889627Z",
     "start_time": "2022-08-21T19:14:27.789437Z"
    }
   },
   "source": [
    "Craet folder and save"
   ]
  },
  {
   "cell_type": "code",
   "execution_count": 9,
   "id": "300e40d3",
   "metadata": {
    "ExecuteTime": {
     "end_time": "2022-10-10T01:59:37.487710Z",
     "start_time": "2022-10-10T01:59:37.481710Z"
    }
   },
   "outputs": [
    {
     "ename": "FileExistsError",
     "evalue": "[WinError 183] Cannot create a file when that file already exists: 'C:\\\\Users\\\\ELSOUDY\\\\python\\\\my_python\\\\my projects\\\\deep learning\\\\project_1\\\\Cars'",
     "output_type": "error",
     "traceback": [
      "\u001b[1;31m---------------------------------------------------------------------------\u001b[0m",
      "\u001b[1;31mFileExistsError\u001b[0m                           Traceback (most recent call last)",
      "\u001b[1;32m<ipython-input-9-9a3549455569>\u001b[0m in \u001b[0;36m<module>\u001b[1;34m\u001b[0m\n\u001b[0;32m      1\u001b[0m \u001b[0mpath\u001b[0m \u001b[1;33m=\u001b[0m \u001b[0mos\u001b[0m\u001b[1;33m.\u001b[0m\u001b[0mgetcwd\u001b[0m\u001b[1;33m(\u001b[0m\u001b[1;33m)\u001b[0m\u001b[1;33m\u001b[0m\u001b[1;33m\u001b[0m\u001b[0m\n\u001b[0;32m      2\u001b[0m \u001b[0mpath\u001b[0m \u001b[1;33m=\u001b[0m \u001b[0mos\u001b[0m\u001b[1;33m.\u001b[0m\u001b[0mpath\u001b[0m\u001b[1;33m.\u001b[0m\u001b[0mjoin\u001b[0m\u001b[1;33m(\u001b[0m\u001b[0mpath\u001b[0m\u001b[1;33m,\u001b[0m \u001b[0mname\u001b[0m\u001b[1;33m)\u001b[0m\u001b[1;33m\u001b[0m\u001b[1;33m\u001b[0m\u001b[0m\n\u001b[1;32m----> 3\u001b[1;33m \u001b[0mos\u001b[0m\u001b[1;33m.\u001b[0m\u001b[0mmkdir\u001b[0m\u001b[1;33m(\u001b[0m\u001b[0mpath\u001b[0m\u001b[1;33m)\u001b[0m\u001b[1;33m\u001b[0m\u001b[1;33m\u001b[0m\u001b[0m\n\u001b[0m\u001b[0;32m      4\u001b[0m \u001b[0mpath\u001b[0m\u001b[1;33m\u001b[0m\u001b[1;33m\u001b[0m\u001b[0m\n\u001b[0;32m      5\u001b[0m \u001b[1;33m\u001b[0m\u001b[0m\n",
      "\u001b[1;31mFileExistsError\u001b[0m: [WinError 183] Cannot create a file when that file already exists: 'C:\\\\Users\\\\ELSOUDY\\\\python\\\\my_python\\\\my projects\\\\deep learning\\\\project_1\\\\Cars'"
     ]
    }
   ],
   "source": [
    "path = os.getcwd()\n",
    "path = os.path.join(path, name)\n",
    "os.mkdir(path)\n",
    "path\n",
    "\n",
    "c = 0\n",
    "for image in images:\n",
    "    save = os.path.join(path, name + str(c)+str(5) + '.jpg')\n",
    "    wget.download(image, save)\n",
    "    c +=1\n",
    "print(c)"
   ]
  },
  {
   "cell_type": "code",
   "execution_count": null,
   "id": "425f0f86",
   "metadata": {},
   "outputs": [],
   "source": []
  }
 ],
 "metadata": {
  "kernelspec": {
   "display_name": "Python 3",
   "language": "python",
   "name": "python3"
  },
  "language_info": {
   "codemirror_mode": {
    "name": "ipython",
    "version": 3
   },
   "file_extension": ".py",
   "mimetype": "text/x-python",
   "name": "python",
   "nbconvert_exporter": "python",
   "pygments_lexer": "ipython3",
   "version": "3.8.8"
  },
  "latex_envs": {
   "LaTeX_envs_menu_present": true,
   "autoclose": false,
   "autocomplete": true,
   "bibliofile": "biblio.bib",
   "cite_by": "apalike",
   "current_citInitial": 1,
   "eqLabelWithNumbers": true,
   "eqNumInitial": 1,
   "hotkeys": {
    "equation": "Ctrl-E",
    "itemize": "Ctrl-I"
   },
   "labels_anchors": false,
   "latex_user_defs": false,
   "report_style_numbering": false,
   "user_envs_cfg": false
  }
 },
 "nbformat": 4,
 "nbformat_minor": 5
}
